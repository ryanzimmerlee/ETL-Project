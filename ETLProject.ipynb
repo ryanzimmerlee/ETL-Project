{
 "cells": [
  {
   "cell_type": "markdown",
   "metadata": {},
   "source": [
    "# ETL Project"
   ]
  },
  {
   "cell_type": "markdown",
   "metadata": {},
   "source": [
    "Table 1: Qin, Bryan, Ryan, Seth\n",
    "\n",
    "* Call Demograhic Data from Census API\n",
    "* Load Election Data from CSV\n",
    "* Clean Data and ensure join can be made on fips Code\n",
    "* Load Data in a mysql DB"
   ]
  },
  {
   "cell_type": "markdown",
   "metadata": {},
   "source": [
    "## Extract Data"
   ]
  },
  {
   "cell_type": "code",
   "execution_count": null,
   "metadata": {},
   "outputs": [],
   "source": [
    "# election data csv can be found here:\n",
    "#  https://github.com/tonmcg/US_County_Level_Election_Results_08-16\n",
    "\n",
    "# Import Dependencies\n",
    "# config file stored locally with necessary credentials\n",
    "from census import Census\n",
    "import pandas as pd\n",
    "from sqlalchemy import create_engine\n",
    "from config import cen_key, mysqlUser, mysqlPswd\n",
    "\n",
    "# Create Census variable to be passed to API call\n",
    "cen_config = Census(cen_key, year=2016)\n",
    "\n",
    "# Get Census Data\n",
    "censusData = cen_config.acs1.get(\n",
    "                                    ( \n",
    "                                     \"NAME\", \n",
    "                                    \"B19013_001E\", #household income (median)\n",
    "                                    \"B01003_001E\", #population (total)\n",
    "                                    \"B09001_001E\", #population under 18\n",
    "                                    \"B01002_001E\", #median age\n",
    "                                    \"B19301_001E\", #per capita income (average income per person)\n",
    "                                    \"B17001_002E\", #poverty count\n",
    "                                    \"B23025_005E\", #unemployment count\n",
    "                                    \"B15012_001E\", #total recorded bachelor degrees\n",
    "                                    \"B15003_002E\", \n",
    "                                    \"B15003_017E\",\n",
    "                                    \"B15003_018E\",\n",
    "                                    \"B15003_021E\",\n",
    "                                    \"B15003_022E\",\n",
    "                                    \"B15003_023E\",\n",
    "                                    \"B15003_024E\",\n",
    "                                    \"B15003_025E\"\n",
    "                                    ),\n",
    "                                    {'for': 'county:*'} \n",
    "                                    ) \n",
    "\n",
    "# Create DataFrame out of returned Census Data\n",
    "censusDf = pd.DataFrame(censusData)\n",
    "\n",
    "# Create DataFrame out of Election Result CSV\n",
    "file_path = './2016ElectionData.csv'\n",
    "elecData = pd.read_csv(file_path, index_col=0)"
   ]
  },
  {
   "cell_type": "markdown",
   "metadata": {},
   "source": [
    "## Transform Data"
   ]
  },
  {
   "cell_type": "code",
   "execution_count": null,
   "metadata": {},
   "outputs": [],
   "source": [
    "# ------ Clean API Data ------\n",
    "# Rename columns to be more descriptive\n",
    "#  Use underscores instead of spaces to allow more\n",
    "#  functionality in mySQL\n",
    "re_censusDf = censusDf.rename(columns={\n",
    "                                    \"NAME\": \"Name\", \n",
    "                                    \"state\": \"State_ID\",\n",
    "                                    \"B19013_001E\": \"Household_Income\",\n",
    "                                    \"B01003_001E\": \"Population\",\n",
    "                                    \"B09001_001E\": \"Population_Under_18\",\n",
    "                                    \"B01002_001E\": \"Median_Age\",\n",
    "                                    \"B19301_001E\": \"Per_Capita_Income\",\n",
    "                                    \"B17001_002E\": \"Poverty_Count\",\n",
    "                                    \"B23025_005E\": \"Unemployment_Count\",\n",
    "                                    \"B15012_001E\": \"Total_Recorded_Bachelor_Degrees\",\n",
    "                                    \"B15003_002E\": \"No_Education\",\n",
    "                                    \"B15003_017E\": \"High_School\",\n",
    "                                    \"B15003_018E\": \"GED\",\n",
    "                                    \"B15003_021E\": \"Associates\",\n",
    "                                    \"B15003_022E\": \"Bachelors\",\n",
    "                                    \"B15003_023E\": \"Masters\",\n",
    "                                    \"B15003_024E\": \"Professional_Degree\",\n",
    "                                    \"B15003_025E\": \"Doctorate\"\n",
    "                                    })\n",
    "\n",
    "# Create fips code by combining state and county ids\n",
    "# drop state and county columns, no longer necessary\n",
    "re_censusDf['Fips_Code'] = re_censusDf['State_ID'] + re_censusDf['county']\n",
    "re_censusDf = re_censusDf.drop(['State_ID','county'],axis=1)\n",
    "\n",
    "# reorder columns into cleaner format\n",
    "cols = re_censusDf.columns.tolist()\n",
    "cols = cols[-4:] + cols[:-4]\n",
    "re_censusDf = re_censusDf[cols]\n",
    "\n",
    "\n",
    "# ------ Clean CSV Data ------\n",
    "# CSV had fips code as 4 digits instead of 5\n",
    "# where fips code should start with 0\n",
    "# Function to add 0 to the front of the fips code (fips code under 5 digis)\n",
    "def math(x):\n",
    "    if len(str(x)) < 5:\n",
    "        return \"0\" + str(x)\n",
    "    else:\n",
    "        return str(x)\n",
    "    \n",
    "# Apply math function and create a new column\n",
    "# Drop old Fips code\n",
    "elecData['Fips_Code'] = elecData['combined_fips'].apply(math)\n",
    "elecData = elecData.drop(['combined_fips'],axis=1)\n",
    "\n",
    "\n",
    "# Alaska Data is repeating for all fips codes\n",
    "# Cannot distinguish actual Data\n",
    "# Remove all Alaska Data\n",
    "elecData = elecData[elecData.state_abbr != \"AK\"]"
   ]
  },
  {
   "cell_type": "markdown",
   "metadata": {},
   "source": [
    "## Load Data"
   ]
  },
  {
   "cell_type": "code",
   "execution_count": null,
   "metadata": {
    "scrolled": true
   },
   "outputs": [],
   "source": [
    "# mySQL schema needs to be created on your local machine prior to running code\n",
    "# schema name is etl_project\n",
    "\n",
    "# Create connection to mySQL database\n",
    "rds_connection_string = f\"{mysqlUser}:{mysqlPswd}@127.0.0.1/etl_project\"\n",
    "engine = create_engine(f'mysql://{rds_connection_string}')\n",
    "\n",
    "# read dataframes into mysql tables. if they are already there, replace them\n",
    "elecData.to_sql(name='election_data', con=engine, if_exists='replace')\n",
    "re_censusDf.to_sql(name='census_data', con=engine, if_exists='replace')"
   ]
  }
 ],
 "metadata": {
  "kernelspec": {
   "display_name": "Python 3",
   "language": "python",
   "name": "python3"
  },
  "language_info": {
   "codemirror_mode": {
    "name": "ipython",
    "version": 3
   },
   "file_extension": ".py",
   "mimetype": "text/x-python",
   "name": "python",
   "nbconvert_exporter": "python",
   "pygments_lexer": "ipython3",
   "version": "3.7.0"
  }
 },
 "nbformat": 4,
 "nbformat_minor": 2
}
